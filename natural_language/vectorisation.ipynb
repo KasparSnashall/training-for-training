{
 "cells": [
  {
   "attachments": {},
   "cell_type": "markdown",
   "metadata": {},
   "source": [
    "# Vectorisation\n",
    "Conversion of text into a numerical represenation normally a vector in n dimensional space. "
   ]
  },
  {
   "cell_type": "code",
   "execution_count": 3,
   "metadata": {},
   "outputs": [
    {
     "ename": "NameError",
     "evalue": "name 'Vectorizer' is not defined",
     "output_type": "error",
     "traceback": [
      "\u001b[1;31m---------------------------------------------------------------------------\u001b[0m",
      "\u001b[1;31mNameError\u001b[0m                                 Traceback (most recent call last)",
      "\u001b[1;32mc:\\Users\\kaspa\\Documents\\Code\\AI_training\\training-for-training\\natural_language\\vectorisation.ipynb Cell 2\u001b[0m in \u001b[0;36m<cell line: 3>\u001b[1;34m()\u001b[0m\n\u001b[0;32m      <a href='vscode-notebook-cell:/c%3A/Users/kaspa/Documents/Code/AI_training/training-for-training/natural_language/vectorisation.ipynb#W0sZmlsZQ%3D%3D?line=0'>1</a>\u001b[0m \u001b[39mimport\u001b[39;00m \u001b[39mstring\u001b[39;00m\n\u001b[1;32m----> <a href='vscode-notebook-cell:/c%3A/Users/kaspa/Documents/Code/AI_training/training-for-training/natural_language/vectorisation.ipynb#W0sZmlsZQ%3D%3D?line=2'>3</a>\u001b[0m \u001b[39mclass\u001b[39;00m \u001b[39mVectorizer\u001b[39;00m:\n\u001b[0;32m      <a href='vscode-notebook-cell:/c%3A/Users/kaspa/Documents/Code/AI_training/training-for-training/natural_language/vectorisation.ipynb#W0sZmlsZQ%3D%3D?line=3'>4</a>\u001b[0m     \u001b[39mdef\u001b[39;00m \u001b[39mstandardize\u001b[39m(\u001b[39mself\u001b[39m, text):\n\u001b[0;32m      <a href='vscode-notebook-cell:/c%3A/Users/kaspa/Documents/Code/AI_training/training-for-training/natural_language/vectorisation.ipynb#W0sZmlsZQ%3D%3D?line=4'>5</a>\u001b[0m         text \u001b[39m=\u001b[39m text\u001b[39m.\u001b[39mlower() \u001b[39m# capitalisation iis not important. \u001b[39;00m\n",
      "\u001b[1;32mc:\\Users\\kaspa\\Documents\\Code\\AI_training\\training-for-training\\natural_language\\vectorisation.ipynb Cell 2\u001b[0m in \u001b[0;36mVectorizer\u001b[1;34m()\u001b[0m\n\u001b[0;32m     <a href='vscode-notebook-cell:/c%3A/Users/kaspa/Documents/Code/AI_training/training-for-training/natural_language/vectorisation.ipynb#W0sZmlsZQ%3D%3D?line=29'>30</a>\u001b[0m \u001b[39mdef\u001b[39;00m \u001b[39mdecode\u001b[39m(\u001b[39mself\u001b[39m, int_sequence):\n\u001b[0;32m     <a href='vscode-notebook-cell:/c%3A/Users/kaspa/Documents/Code/AI_training/training-for-training/natural_language/vectorisation.ipynb#W0sZmlsZQ%3D%3D?line=30'>31</a>\u001b[0m     \u001b[39mreturn\u001b[39;00m \u001b[39m\"\u001b[39m\u001b[39m\"\u001b[39m\u001b[39m.\u001b[39mjoin(\u001b[39mself\u001b[39m\u001b[39m.\u001b[39minverse_vocabulary\u001b[39m.\u001b[39mget(i, \u001b[39m\"\u001b[39m\u001b[39m [UNK] \u001b[39m\u001b[39m\"\u001b[39m) \u001b[39mfor\u001b[39;00m i \u001b[39min\u001b[39;00m int_sequence)\n\u001b[1;32m---> <a href='vscode-notebook-cell:/c%3A/Users/kaspa/Documents/Code/AI_training/training-for-training/natural_language/vectorisation.ipynb#W0sZmlsZQ%3D%3D?line=32'>33</a>\u001b[0m vectorizer \u001b[39m=\u001b[39m Vectorizer()\n\u001b[0;32m     <a href='vscode-notebook-cell:/c%3A/Users/kaspa/Documents/Code/AI_training/training-for-training/natural_language/vectorisation.ipynb#W0sZmlsZQ%3D%3D?line=34'>35</a>\u001b[0m dataset \u001b[39m=\u001b[39m [\u001b[39m\"\u001b[39m\u001b[39mI write, erase, rewrite\u001b[39m\u001b[39m\"\u001b[39m, \u001b[39m\"\u001b[39m\u001b[39mErase again, and then\u001b[39m\u001b[39m\"\u001b[39m, \u001b[39m\"\u001b[39m\u001b[39mA poppy blooms\u001b[39m\u001b[39m\"\u001b[39m]\n\u001b[0;32m     <a href='vscode-notebook-cell:/c%3A/Users/kaspa/Documents/Code/AI_training/training-for-training/natural_language/vectorisation.ipynb#W0sZmlsZQ%3D%3D?line=36'>37</a>\u001b[0m vectorizer\u001b[39m.\u001b[39mmake_vocabulary(dataset)\n",
      "\u001b[1;31mNameError\u001b[0m: name 'Vectorizer' is not defined"
     ]
    }
   ],
   "source": [
    "import string\n",
    "\n",
    "class Vectorizer:\n",
    "    def standardize(self, text):\n",
    "        text = text.lower() # capitalisation iis not important. \n",
    "        # Slightly suprising considering a captical letter is a good indicator for humans\n",
    "        return \"\".join(char for char in text if char not in string.punctuation)\n",
    "    \n",
    "    def tokenize(self,text):\n",
    "        text = self.standardize(text)\n",
    "        return text.split() # break into list\n",
    "    \n",
    "    def make_vocabulary(self,dataset):\n",
    "        self.vocabulary = {\"\" : 0, \" [UNK] \" : 1} \n",
    "        # we use blank as zero and unknown as 1 \n",
    "        # All other vocab are unique integers\n",
    "        for text in dataset:\n",
    "            text = self.standardize(text)\n",
    "            tokens = self.tokenize(text)\n",
    "            for token in tokens:\n",
    "                if token not in self.vocabulary:\n",
    "                    self.vocabulary[token] = len(self.vocabulary)\n",
    "        self.inverse_vocabulary = dict((v,k) for k,v in self.vocabulary.items())\n",
    "    \n",
    "    def encode(self, text):\n",
    "        text = self.standardize(text)\n",
    "        tokens = self.tokenize(text)\n",
    "        return [self.vocabulary.get(token,1) for token in tokens]\n",
    "    \n",
    "    def decode(self, int_sequence):\n",
    "        return \"\".join(self.inverse_vocabulary.get(i, \" [UNK] \") for i in int_sequence)\n",
    "    \n",
    "vectorizer = Vectorizer()\n",
    "    \n",
    "dataset = [\"I write, erase, rewrite\", \"Erase again, and then\", \"A poppy blooms\"]\n",
    "    \n",
    "vectorizer.make_vocabulary(dataset)\n",
    "                    \n",
    "    "
   ]
  }
 ],
 "metadata": {
  "kernelspec": {
   "display_name": "base",
   "language": "python",
   "name": "python3"
  },
  "language_info": {
   "codemirror_mode": {
    "name": "ipython",
    "version": 3
   },
   "file_extension": ".py",
   "mimetype": "text/x-python",
   "name": "python",
   "nbconvert_exporter": "python",
   "pygments_lexer": "ipython3",
   "version": "3.9.12"
  },
  "orig_nbformat": 4
 },
 "nbformat": 4,
 "nbformat_minor": 2
}
