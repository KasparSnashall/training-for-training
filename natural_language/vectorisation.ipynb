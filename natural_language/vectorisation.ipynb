{
 "cells": [
  {
   "attachments": {},
   "cell_type": "markdown",
   "metadata": {},
   "source": [
    "# Vectorisation\n",
    "Conversion of text into a numerical represenation normally a vector in n dimensional space. "
   ]
  },
  {
   "cell_type": "code",
   "execution_count": 6,
   "metadata": {},
   "outputs": [],
   "source": [
    "import string\n",
    "\n",
    "class Vectorizer:\n",
    "    def standardize(self, text):\n",
    "        text = text.lower() # capitalisation iis not important. \n",
    "        # Slightly suprising considering a captical letter is a good indicator for humans\n",
    "        return \"\".join(char for char in text if char not in string.punctuation)\n",
    "    \n",
    "    def tokenize(self,text):\n",
    "        text = self.standardize(text)\n",
    "        return text.split() # break into list\n",
    "    \n",
    "    def make_vocabulary(self,dataset):\n",
    "        self.vocabulary = {\"\" : 0, \" [UNK] \" : 1} \n",
    "        # we use blank as zero and unknown as 1 \n",
    "        # All other vocab are unique integers\n",
    "        for text in dataset:\n",
    "            text = self.standardize(text)\n",
    "            tokens = self.tokenize(text)\n",
    "            for token in tokens:\n",
    "                if token not in self.vocabulary:\n",
    "                    self.vocabulary[token] = len(self.vocabulary)\n",
    "        self.inverse_vocabulary = dict((v,k) for k,v in self.vocabulary.items())\n",
    "    \n",
    "    def encode(self, text):\n",
    "        text = self.standardize(text)\n",
    "        tokens = self.tokenize(text)\n",
    "        return [self.vocabulary.get(token,1) for token in tokens]\n",
    "    \n",
    "    def decode(self, int_sequence):\n",
    "        return \" \".join(self.inverse_vocabulary.get(i, \" [UNK] \") for i in int_sequence)\n",
    "    \n",
    "vectorizer = Vectorizer()\n",
    "    \n",
    "dataset = [\"I write, erase, rewrite\", \"Erase again, and then\", \"A poppy blooms\"]\n",
    "    \n",
    "vectorizer.make_vocabulary(dataset)\n",
    "                    \n",
    "    "
   ]
  },
  {
   "cell_type": "code",
   "execution_count": 7,
   "metadata": {},
   "outputs": [
    {
     "name": "stdout",
     "output_type": "stream",
     "text": [
      "[2, 3, 4, 5, 7, 1, 5, 6]\n",
      "i write erase rewrite and  [UNK]  rewrite again\n"
     ]
    }
   ],
   "source": [
    "test = \"I write, erase, rewrite, and still rewrite again\"\n",
    "encode = vectorizer.encode(test)\n",
    "print(encode)\n",
    "\n",
    "decode = vectorizer.decode(encode)\n",
    "print(decode)"
   ]
  },
  {
   "attachments": {},
   "cell_type": "markdown",
   "metadata": {},
   "source": [
    "Nice to see the above code returns it in lower case. Although I wonder if more complex algorithims learn with capitalised english?"
   ]
  },
  {
   "attachments": {},
   "cell_type": "markdown",
   "metadata": {},
   "source": [
    "# Tensorflow example\n",
    "Below is roughly tthe same but much simplier with tensorflow."
   ]
  },
  {
   "cell_type": "code",
   "execution_count": 9,
   "metadata": {},
   "outputs": [
    {
     "name": "stdout",
     "output_type": "stream",
     "text": [
      "['', '[UNK]', 'erase', 'write', 'then', 'rewrite', 'poppy', 'i', 'blooms', 'and', 'again', 'a']\n"
     ]
    }
   ],
   "source": [
    "from tensorflow.keras.layers import TextVectorization\n",
    "text_vector = TextVectorization(output_mode = \"int\")\n",
    "\n",
    "text_vector.adapt(dataset)\n",
    "print(text_vector.get_vocabulary())"
   ]
  },
  {
   "attachments": {},
   "cell_type": "markdown",
   "metadata": {},
   "source": [
    "So easy! "
   ]
  }
 ],
 "metadata": {
  "kernelspec": {
   "display_name": "base",
   "language": "python",
   "name": "python3"
  },
  "language_info": {
   "codemirror_mode": {
    "name": "ipython",
    "version": 3
   },
   "file_extension": ".py",
   "mimetype": "text/x-python",
   "name": "python",
   "nbconvert_exporter": "python",
   "pygments_lexer": "ipython3",
   "version": "3.9.12"
  },
  "orig_nbformat": 4
 },
 "nbformat": 4,
 "nbformat_minor": 2
}
