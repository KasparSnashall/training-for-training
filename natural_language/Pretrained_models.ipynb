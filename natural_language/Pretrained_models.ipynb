{
 "cells": [
  {
   "cell_type": "markdown",
   "id": "32a2cd7f",
   "metadata": {},
   "source": [
    "# Pretrained embeddings\n",
    "The past couple of experiements have shown that training can be quite long and requires a very large dataset. Even the hundered of MB of current data is not enough. I note its not really stored in an efficent manner like HDF5 or something similar. \n",
    "One can save alot of time with task with small amounts of data by using pretrained models. "
   ]
  },
  {
   "cell_type": "code",
   "execution_count": 14,
   "id": "ab38f626",
   "metadata": {},
   "outputs": [
    {
     "name": "stdout",
     "output_type": "stream",
     "text": [
      "number of word vectors = 400000\n"
     ]
    }
   ],
   "source": [
    "import os\n",
    "\n",
    "import numpy as np\n",
    "path_to_glove_file = \"D:/Documents/Code/AI_training/training_data/glove6b/glove.6B.100d.txt\"\n",
    "embeddings_index = {}\n",
    "with open(path_to_glove_file, encoding='UTF-8') as file:\n",
    "    for line in file:\n",
    "            word , coefs = line.split(maxsplit=1)\n",
    "            coefs = np.fromstring(coefs, \"f\", sep=\" \")\n",
    "            embeddings_index[word] = coefs\n",
    "\n",
    "print(f\"number of word vectors = {len(embeddings_index)}\")"
   ]
  },
  {
   "cell_type": "markdown",
   "id": "c958bb34",
   "metadata": {},
   "source": [
    "Slightly annoying, above for some reason ipython notebooks dont seem to have UTF-8 as the default encoding so you must specify this in the open function."
   ]
  },
  {
   "cell_type": "code",
   "execution_count": null,
   "id": "cc9bf2e2",
   "metadata": {},
   "outputs": [],
   "source": []
  }
 ],
 "metadata": {
  "kernelspec": {
   "display_name": "Python 3 (ipykernel)",
   "language": "python",
   "name": "python3"
  },
  "language_info": {
   "codemirror_mode": {
    "name": "ipython",
    "version": 3
   },
   "file_extension": ".py",
   "mimetype": "text/x-python",
   "name": "python",
   "nbconvert_exporter": "python",
   "pygments_lexer": "ipython3",
   "version": "3.9.12"
  }
 },
 "nbformat": 4,
 "nbformat_minor": 5
}
